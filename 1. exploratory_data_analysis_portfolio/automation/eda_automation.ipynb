{
 "cells": [
  {
   "cell_type": "markdown",
   "id": "855c5987",
   "metadata": {},
   "source": [
    "### EDA Automation Notebook\n",
    "This notebook is a jupyter notebook template for all my EDA projects. This will contain various checks that I commonly use in my projects. Since this is an automation or a template, this does not contain any test data. It will contain the following checks as seen below:\n",
    "- Step 1: Loading the data\n",
    "- Step 2: Checking the basic data information\n",
    "- Step 3: Data quality assessment\n",
    "- Step 4: Summary statistics\n",
    "- Step 5: Correlations and outliers\n",
    "- Step 6: Answering questions\n",
    "\n",
    "There will be another python file and this prints out the pdf report instead of the notebook as this is used for data exploration only and not for answering questions. I used ChatGPT to help with the documentation of the code here as well as to identify the better and more efficient code to implement.\n",
    "\n",
    "Will fix code so that all items will output on the txt/pdf file. For now, outputs are in the notebook."
   ]
  },
  {
   "cell_type": "code",
   "execution_count": 1,
   "id": "5bf5e2bc",
   "metadata": {},
   "outputs": [],
   "source": [
    "#Import packages\n",
    "import pandas as pd\n",
    "import numpy as np\n",
    "import seaborn as sns\n",
    "import matplotlib.pyplot as plt\n",
    "from matplotlib.backends.backend_pdf import PdfPages\n",
    "import os\n",
    "from IPython.display import display\n",
    "import platform\n",
    "import subprocess\n",
    "import datetime\n",
    "import textdistance"
   ]
  },
  {
   "cell_type": "markdown",
   "id": "c76a08d8",
   "metadata": {},
   "source": [
    "##### Step 1: Loading the data"
   ]
  },
  {
   "cell_type": "code",
   "execution_count": 5,
   "id": "e3f597ce",
   "metadata": {},
   "outputs": [],
   "source": [
    "def load_data(file_path, sheet_name = None, encoding = \"utf-8\"):\n",
    "    \"\"\"\n",
    "    Load a dataset either from a CSV or Excel file from any path provide by the user.\n",
    "\n",
    "    Parameters:\n",
    "        file_path (str): Path to the file, can be absolute or relative.\n",
    "        sheet_name (str or int, optional): Sheet name is used as index for files.\n",
    "    \n",
    "    Output:\n",
    "        dataframe: Data from file is loaded as a dataframe. Loads 50 rows(head) of data for better checking.\n",
    "    \"\"\"\n",
    "    if len(file_path) == 0:\n",
    "        raise FileNotFoundError(f\"File path cannot be blank.\")\n",
    "    #Error handling for files if file cannot be located\n",
    "    if not os.path.exists(file_path):\n",
    "        raise FileNotFoundError(f\"File not found for {file_path}. Ensure file is inside the folder or input the whole path instead.\")\n",
    "\n",
    "    ext_type = os.path.splitext(file_path)[-1].lower()\n",
    "\n",
    "    #File type handling for CSV and Excel files as well\n",
    "    try:    \n",
    "        if ext_type == \".csv\":\n",
    "            #Unicode decode error handling\n",
    "            try:\n",
    "                df = pd.read_csv(file_path, encoding = encoding)\n",
    "            except UnicodeDecodeError:\n",
    "                print(\"UTF-8 failed, trying ISO-8859-1...\")\n",
    "                df = pd.read_csv(file_path, encoding = \"ISO-8859-1\")\n",
    "        \n",
    "        elif ext_type in [\".xls\", \"xlsx\"]:\n",
    "            df = pd.read_excel(file_path, sheet_name = sheet_name if sheet_name else 0)\n",
    "        \n",
    "        #Error raising for unsupported file types\n",
    "        else:\n",
    "            raise ValueError(\"Unsupported file type. This notebook can only load CSV or Excel files.\")\n",
    "\n",
    "    except Exception as exc:\n",
    "        raise RuntimeError(f\"Error reading file: {exc}\")\n",
    "\n",
    "    print(f\"Data loaded successfully from {file_path}\")\n",
    "    # display(df.head(50))\n",
    "    return df"
   ]
  },
  {
   "cell_type": "code",
   "execution_count": 6,
   "id": "5e42e2a4",
   "metadata": {},
   "outputs": [
    {
     "name": "stdout",
     "output_type": "stream",
     "text": [
      "UTF-8 failed, trying ISO-8859-1...\n",
      "Data loaded successfully from data.csv\n"
     ]
    }
   ],
   "source": [
    "#Interactive data loading for targeted file path loading. This allows to choose any file at any location.\n",
    "if __name__ == \"__main__\":\n",
    "    file_path = input(\"Enter file path (ex. data.csv or C:/folder/data.csv): \").strip()\n",
    "    sheet_name = input(\"Optional: Specify sheet name or press ENTER to load the file directly.\")\n",
    "    sheet_name = sheet_name if sheet_name else None\n",
    "\n",
    "    df = load_data(file_path, sheet_name)"
   ]
  },
  {
   "cell_type": "markdown",
   "id": "5b765872",
   "metadata": {},
   "source": [
    "##### Step 2: Checking the basic data information"
   ]
  },
  {
   "cell_type": "code",
   "execution_count": 8,
   "id": "12b6bf57",
   "metadata": {},
   "outputs": [],
   "source": [
    "def basic_data_information(df, preview_rows=5, mode=\"print\", output_lines=None, file_path=\"\"):\n",
    "    \"\"\"\n",
    "    Appends or prints basic data information such as:\n",
    "    - Shape\n",
    "    - Data types\n",
    "    - Missing values\n",
    "    - Descriptive stats\n",
    "    - Unique counts\n",
    "    - Preview of rows\n",
    "\n",
    "    Parameters:\n",
    "    df (pd.DataFrame): The data to summarize.\n",
    "    preview_rows (int): Number of rows to preview.\n",
    "    mode (str): Either \"print\" or \"file\".\n",
    "    output_lines (list): List to append lines to if mode is \"file\".\n",
    "    file_path (str): Name of the file for final summary text.\n",
    "    \"\"\"\n",
    "    pd.set_option('display.max_columns', 100)\n",
    "    pd.set_option('display.max_rows', 100)\n",
    "    pd.set_option('display.max_colwidth', None)\n",
    "\n",
    "    numeric_cols = df.select_dtypes(include=['number']).shape[1]\n",
    "    non_numeric_cols = df.select_dtypes(exclude=['number']).shape[1]\n",
    "\n",
    "    def out(line):\n",
    "        if mode == \"file\" and output_lines is not None:\n",
    "            output_lines.append(str(line))\n",
    "        else:\n",
    "            print(line)\n",
    "\n",
    "    def out_df(sub_df):\n",
    "        if mode == \"file\" and output_lines is not None:\n",
    "            output_lines.append(sub_df.to_string())\n",
    "        else:\n",
    "            display(sub_df)\n",
    "\n",
    "    out(\"=\" * 110)\n",
    "    out(\"Basic Data Information:\")\n",
    "    out(f\"There are {df.shape[0]:,} rows and {df.shape[1]:,} columns in the data.\")\n",
    "    out(\"Here are the data types per column:\")\n",
    "    out_df(df.dtypes.to_frame('Column data types'))\n",
    "\n",
    "    out(f\"There are {numeric_cols} numeric columns and {non_numeric_cols} non-numeric columns.\")\n",
    "\n",
    "    out(\"\\n\" + \"-\" * 110 + \"\\nMissing Values:\")\n",
    "    mv = df.isnull().sum()\n",
    "    mv = mv[mv > 0].sort_values(ascending=False)\n",
    "    if not mv.empty:\n",
    "        out_df(mv.to_frame('count_of_missing_values'))\n",
    "    else:\n",
    "        out(\"No missing values in the dataset.\")\n",
    "\n",
    "    out(\"\\n\" + \"-\" * 110 + \"\\nDescriptive Statistics:\")\n",
    "    out_df(df.describe(include='all').T)\n",
    "\n",
    "    out(\"\\n\" + \"-\" * 110 + \"\\nUnique items per column:\")\n",
    "    c_uniques = df.nunique().sort_values(ascending=False)\n",
    "    out_df(c_uniques.to_frame('unique_values'))\n",
    "\n",
    "    if preview_rows:\n",
    "        out(f\"\\nData preview: first {preview_rows} rows\")\n",
    "        out_df(df.head(preview_rows))\n",
    "\n",
    "    out(\"\\n\" + \"=\" * 110)\n",
    "    out(f\"End of basic data summary for {file_path}\")\n",
    "    out(\"=\" * 110)"
   ]
  },
  {
   "cell_type": "code",
   "execution_count": 9,
   "id": "20fbee41",
   "metadata": {},
   "outputs": [
    {
     "name": "stdout",
     "output_type": "stream",
     "text": [
      "==============================================================================================================\n",
      "Basic Data Information:\n",
      "There are 541,909 rows and 8 columns in the data.\n",
      "Here are the data types per column:\n"
     ]
    },
    {
     "data": {
      "application/vnd.microsoft.datawrangler.viewer.v0+json": {
       "columns": [
        {
         "name": "index",
         "rawType": "object",
         "type": "string"
        },
        {
         "name": "Column data types",
         "rawType": "object",
         "type": "unknown"
        }
       ],
       "ref": "62208f54-6530-4c7f-b78f-1cfc1a147cd6",
       "rows": [
        [
         "InvoiceNo",
         "object"
        ],
        [
         "StockCode",
         "object"
        ],
        [
         "Description",
         "object"
        ],
        [
         "Quantity",
         "int64"
        ],
        [
         "InvoiceDate",
         "object"
        ],
        [
         "UnitPrice",
         "float64"
        ],
        [
         "CustomerID",
         "float64"
        ],
        [
         "Country",
         "object"
        ]
       ],
       "shape": {
        "columns": 1,
        "rows": 8
       }
      },
      "text/html": [
       "<div>\n",
       "<style scoped>\n",
       "    .dataframe tbody tr th:only-of-type {\n",
       "        vertical-align: middle;\n",
       "    }\n",
       "\n",
       "    .dataframe tbody tr th {\n",
       "        vertical-align: top;\n",
       "    }\n",
       "\n",
       "    .dataframe thead th {\n",
       "        text-align: right;\n",
       "    }\n",
       "</style>\n",
       "<table border=\"1\" class=\"dataframe\">\n",
       "  <thead>\n",
       "    <tr style=\"text-align: right;\">\n",
       "      <th></th>\n",
       "      <th>Column data types</th>\n",
       "    </tr>\n",
       "  </thead>\n",
       "  <tbody>\n",
       "    <tr>\n",
       "      <th>InvoiceNo</th>\n",
       "      <td>object</td>\n",
       "    </tr>\n",
       "    <tr>\n",
       "      <th>StockCode</th>\n",
       "      <td>object</td>\n",
       "    </tr>\n",
       "    <tr>\n",
       "      <th>Description</th>\n",
       "      <td>object</td>\n",
       "    </tr>\n",
       "    <tr>\n",
       "      <th>Quantity</th>\n",
       "      <td>int64</td>\n",
       "    </tr>\n",
       "    <tr>\n",
       "      <th>InvoiceDate</th>\n",
       "      <td>object</td>\n",
       "    </tr>\n",
       "    <tr>\n",
       "      <th>UnitPrice</th>\n",
       "      <td>float64</td>\n",
       "    </tr>\n",
       "    <tr>\n",
       "      <th>CustomerID</th>\n",
       "      <td>float64</td>\n",
       "    </tr>\n",
       "    <tr>\n",
       "      <th>Country</th>\n",
       "      <td>object</td>\n",
       "    </tr>\n",
       "  </tbody>\n",
       "</table>\n",
       "</div>"
      ],
      "text/plain": [
       "            Column data types\n",
       "InvoiceNo              object\n",
       "StockCode              object\n",
       "Description            object\n",
       "Quantity                int64\n",
       "InvoiceDate            object\n",
       "UnitPrice             float64\n",
       "CustomerID            float64\n",
       "Country                object"
      ]
     },
     "metadata": {},
     "output_type": "display_data"
    },
    {
     "name": "stdout",
     "output_type": "stream",
     "text": [
      "There are 3 numeric columns and 5 non-numeric columns.\n",
      "\n",
      "--------------------------------------------------------------------------------------------------------------\n",
      "Missing Values:\n"
     ]
    },
    {
     "data": {
      "application/vnd.microsoft.datawrangler.viewer.v0+json": {
       "columns": [
        {
         "name": "index",
         "rawType": "object",
         "type": "string"
        },
        {
         "name": "count_of_missing_values",
         "rawType": "int64",
         "type": "integer"
        }
       ],
       "ref": "eea75fd4-5baf-4b18-86f7-557b08860858",
       "rows": [
        [
         "CustomerID",
         "135080"
        ],
        [
         "Description",
         "1454"
        ]
       ],
       "shape": {
        "columns": 1,
        "rows": 2
       }
      },
      "text/html": [
       "<div>\n",
       "<style scoped>\n",
       "    .dataframe tbody tr th:only-of-type {\n",
       "        vertical-align: middle;\n",
       "    }\n",
       "\n",
       "    .dataframe tbody tr th {\n",
       "        vertical-align: top;\n",
       "    }\n",
       "\n",
       "    .dataframe thead th {\n",
       "        text-align: right;\n",
       "    }\n",
       "</style>\n",
       "<table border=\"1\" class=\"dataframe\">\n",
       "  <thead>\n",
       "    <tr style=\"text-align: right;\">\n",
       "      <th></th>\n",
       "      <th>count_of_missing_values</th>\n",
       "    </tr>\n",
       "  </thead>\n",
       "  <tbody>\n",
       "    <tr>\n",
       "      <th>CustomerID</th>\n",
       "      <td>135080</td>\n",
       "    </tr>\n",
       "    <tr>\n",
       "      <th>Description</th>\n",
       "      <td>1454</td>\n",
       "    </tr>\n",
       "  </tbody>\n",
       "</table>\n",
       "</div>"
      ],
      "text/plain": [
       "             count_of_missing_values\n",
       "CustomerID                    135080\n",
       "Description                     1454"
      ]
     },
     "metadata": {},
     "output_type": "display_data"
    },
    {
     "name": "stdout",
     "output_type": "stream",
     "text": [
      "\n",
      "--------------------------------------------------------------------------------------------------------------\n",
      "Descriptive Statistics:\n"
     ]
    },
    {
     "data": {
      "application/vnd.microsoft.datawrangler.viewer.v0+json": {
       "columns": [
        {
         "name": "index",
         "rawType": "object",
         "type": "string"
        },
        {
         "name": "count",
         "rawType": "object",
         "type": "unknown"
        },
        {
         "name": "unique",
         "rawType": "object",
         "type": "unknown"
        },
        {
         "name": "top",
         "rawType": "object",
         "type": "unknown"
        },
        {
         "name": "freq",
         "rawType": "object",
         "type": "unknown"
        },
        {
         "name": "mean",
         "rawType": "object",
         "type": "unknown"
        },
        {
         "name": "std",
         "rawType": "object",
         "type": "unknown"
        },
        {
         "name": "min",
         "rawType": "object",
         "type": "unknown"
        },
        {
         "name": "25%",
         "rawType": "object",
         "type": "unknown"
        },
        {
         "name": "50%",
         "rawType": "object",
         "type": "unknown"
        },
        {
         "name": "75%",
         "rawType": "object",
         "type": "unknown"
        },
        {
         "name": "max",
         "rawType": "object",
         "type": "unknown"
        }
       ],
       "ref": "3588b425-1f02-439f-9147-5d47bc52cdf9",
       "rows": [
        [
         "InvoiceNo",
         "541909",
         "25900",
         "573585",
         "1114",
         null,
         null,
         null,
         null,
         null,
         null,
         null
        ],
        [
         "StockCode",
         "541909",
         "4070",
         "85123A",
         "2313",
         null,
         null,
         null,
         null,
         null,
         null,
         null
        ],
        [
         "Description",
         "540455",
         "4223",
         "WHITE HANGING HEART T-LIGHT HOLDER",
         "2369",
         null,
         null,
         null,
         null,
         null,
         null,
         null
        ],
        [
         "Quantity",
         "541909.0",
         null,
         null,
         null,
         "9.55224954743324",
         "218.08115785023384",
         "-80995.0",
         "1.0",
         "3.0",
         "10.0",
         "80995.0"
        ],
        [
         "InvoiceDate",
         "541909",
         "23260",
         "10/31/2011 14:41",
         "1114",
         null,
         null,
         null,
         null,
         null,
         null,
         null
        ],
        [
         "UnitPrice",
         "541909.0",
         null,
         null,
         null,
         "4.611113626088513",
         "96.75985306117938",
         "-11062.06",
         "1.25",
         "2.08",
         "4.13",
         "38970.0"
        ],
        [
         "CustomerID",
         "406829.0",
         null,
         null,
         null,
         "15287.690570239585",
         "1713.600303321598",
         "12346.0",
         "13953.0",
         "15152.0",
         "16791.0",
         "18287.0"
        ],
        [
         "Country",
         "541909",
         "38",
         "United Kingdom",
         "495478",
         null,
         null,
         null,
         null,
         null,
         null,
         null
        ]
       ],
       "shape": {
        "columns": 11,
        "rows": 8
       }
      },
      "text/html": [
       "<div>\n",
       "<style scoped>\n",
       "    .dataframe tbody tr th:only-of-type {\n",
       "        vertical-align: middle;\n",
       "    }\n",
       "\n",
       "    .dataframe tbody tr th {\n",
       "        vertical-align: top;\n",
       "    }\n",
       "\n",
       "    .dataframe thead th {\n",
       "        text-align: right;\n",
       "    }\n",
       "</style>\n",
       "<table border=\"1\" class=\"dataframe\">\n",
       "  <thead>\n",
       "    <tr style=\"text-align: right;\">\n",
       "      <th></th>\n",
       "      <th>count</th>\n",
       "      <th>unique</th>\n",
       "      <th>top</th>\n",
       "      <th>freq</th>\n",
       "      <th>mean</th>\n",
       "      <th>std</th>\n",
       "      <th>min</th>\n",
       "      <th>25%</th>\n",
       "      <th>50%</th>\n",
       "      <th>75%</th>\n",
       "      <th>max</th>\n",
       "    </tr>\n",
       "  </thead>\n",
       "  <tbody>\n",
       "    <tr>\n",
       "      <th>InvoiceNo</th>\n",
       "      <td>541909</td>\n",
       "      <td>25900</td>\n",
       "      <td>573585</td>\n",
       "      <td>1114</td>\n",
       "      <td>NaN</td>\n",
       "      <td>NaN</td>\n",
       "      <td>NaN</td>\n",
       "      <td>NaN</td>\n",
       "      <td>NaN</td>\n",
       "      <td>NaN</td>\n",
       "      <td>NaN</td>\n",
       "    </tr>\n",
       "    <tr>\n",
       "      <th>StockCode</th>\n",
       "      <td>541909</td>\n",
       "      <td>4070</td>\n",
       "      <td>85123A</td>\n",
       "      <td>2313</td>\n",
       "      <td>NaN</td>\n",
       "      <td>NaN</td>\n",
       "      <td>NaN</td>\n",
       "      <td>NaN</td>\n",
       "      <td>NaN</td>\n",
       "      <td>NaN</td>\n",
       "      <td>NaN</td>\n",
       "    </tr>\n",
       "    <tr>\n",
       "      <th>Description</th>\n",
       "      <td>540455</td>\n",
       "      <td>4223</td>\n",
       "      <td>WHITE HANGING HEART T-LIGHT HOLDER</td>\n",
       "      <td>2369</td>\n",
       "      <td>NaN</td>\n",
       "      <td>NaN</td>\n",
       "      <td>NaN</td>\n",
       "      <td>NaN</td>\n",
       "      <td>NaN</td>\n",
       "      <td>NaN</td>\n",
       "      <td>NaN</td>\n",
       "    </tr>\n",
       "    <tr>\n",
       "      <th>Quantity</th>\n",
       "      <td>541909.0</td>\n",
       "      <td>NaN</td>\n",
       "      <td>NaN</td>\n",
       "      <td>NaN</td>\n",
       "      <td>9.55225</td>\n",
       "      <td>218.081158</td>\n",
       "      <td>-80995.0</td>\n",
       "      <td>1.0</td>\n",
       "      <td>3.0</td>\n",
       "      <td>10.0</td>\n",
       "      <td>80995.0</td>\n",
       "    </tr>\n",
       "    <tr>\n",
       "      <th>InvoiceDate</th>\n",
       "      <td>541909</td>\n",
       "      <td>23260</td>\n",
       "      <td>10/31/2011 14:41</td>\n",
       "      <td>1114</td>\n",
       "      <td>NaN</td>\n",
       "      <td>NaN</td>\n",
       "      <td>NaN</td>\n",
       "      <td>NaN</td>\n",
       "      <td>NaN</td>\n",
       "      <td>NaN</td>\n",
       "      <td>NaN</td>\n",
       "    </tr>\n",
       "    <tr>\n",
       "      <th>UnitPrice</th>\n",
       "      <td>541909.0</td>\n",
       "      <td>NaN</td>\n",
       "      <td>NaN</td>\n",
       "      <td>NaN</td>\n",
       "      <td>4.611114</td>\n",
       "      <td>96.759853</td>\n",
       "      <td>-11062.06</td>\n",
       "      <td>1.25</td>\n",
       "      <td>2.08</td>\n",
       "      <td>4.13</td>\n",
       "      <td>38970.0</td>\n",
       "    </tr>\n",
       "    <tr>\n",
       "      <th>CustomerID</th>\n",
       "      <td>406829.0</td>\n",
       "      <td>NaN</td>\n",
       "      <td>NaN</td>\n",
       "      <td>NaN</td>\n",
       "      <td>15287.69057</td>\n",
       "      <td>1713.600303</td>\n",
       "      <td>12346.0</td>\n",
       "      <td>13953.0</td>\n",
       "      <td>15152.0</td>\n",
       "      <td>16791.0</td>\n",
       "      <td>18287.0</td>\n",
       "    </tr>\n",
       "    <tr>\n",
       "      <th>Country</th>\n",
       "      <td>541909</td>\n",
       "      <td>38</td>\n",
       "      <td>United Kingdom</td>\n",
       "      <td>495478</td>\n",
       "      <td>NaN</td>\n",
       "      <td>NaN</td>\n",
       "      <td>NaN</td>\n",
       "      <td>NaN</td>\n",
       "      <td>NaN</td>\n",
       "      <td>NaN</td>\n",
       "      <td>NaN</td>\n",
       "    </tr>\n",
       "  </tbody>\n",
       "</table>\n",
       "</div>"
      ],
      "text/plain": [
       "                count unique                                 top    freq  \\\n",
       "InvoiceNo      541909  25900                              573585    1114   \n",
       "StockCode      541909   4070                              85123A    2313   \n",
       "Description    540455   4223  WHITE HANGING HEART T-LIGHT HOLDER    2369   \n",
       "Quantity     541909.0    NaN                                 NaN     NaN   \n",
       "InvoiceDate    541909  23260                    10/31/2011 14:41    1114   \n",
       "UnitPrice    541909.0    NaN                                 NaN     NaN   \n",
       "CustomerID   406829.0    NaN                                 NaN     NaN   \n",
       "Country        541909     38                      United Kingdom  495478   \n",
       "\n",
       "                    mean          std       min      25%      50%      75%  \\\n",
       "InvoiceNo            NaN          NaN       NaN      NaN      NaN      NaN   \n",
       "StockCode            NaN          NaN       NaN      NaN      NaN      NaN   \n",
       "Description          NaN          NaN       NaN      NaN      NaN      NaN   \n",
       "Quantity         9.55225   218.081158  -80995.0      1.0      3.0     10.0   \n",
       "InvoiceDate          NaN          NaN       NaN      NaN      NaN      NaN   \n",
       "UnitPrice       4.611114    96.759853 -11062.06     1.25     2.08     4.13   \n",
       "CustomerID   15287.69057  1713.600303   12346.0  13953.0  15152.0  16791.0   \n",
       "Country              NaN          NaN       NaN      NaN      NaN      NaN   \n",
       "\n",
       "                 max  \n",
       "InvoiceNo        NaN  \n",
       "StockCode        NaN  \n",
       "Description      NaN  \n",
       "Quantity     80995.0  \n",
       "InvoiceDate      NaN  \n",
       "UnitPrice    38970.0  \n",
       "CustomerID   18287.0  \n",
       "Country          NaN  "
      ]
     },
     "metadata": {},
     "output_type": "display_data"
    },
    {
     "name": "stdout",
     "output_type": "stream",
     "text": [
      "\n",
      "--------------------------------------------------------------------------------------------------------------\n",
      "Unique items per column:\n"
     ]
    },
    {
     "data": {
      "application/vnd.microsoft.datawrangler.viewer.v0+json": {
       "columns": [
        {
         "name": "index",
         "rawType": "object",
         "type": "string"
        },
        {
         "name": "unique_values",
         "rawType": "int64",
         "type": "integer"
        }
       ],
       "ref": "4678571e-eaaa-4746-8a37-0753276e0c38",
       "rows": [
        [
         "InvoiceNo",
         "25900"
        ],
        [
         "InvoiceDate",
         "23260"
        ],
        [
         "CustomerID",
         "4372"
        ],
        [
         "Description",
         "4223"
        ],
        [
         "StockCode",
         "4070"
        ],
        [
         "UnitPrice",
         "1630"
        ],
        [
         "Quantity",
         "722"
        ],
        [
         "Country",
         "38"
        ]
       ],
       "shape": {
        "columns": 1,
        "rows": 8
       }
      },
      "text/html": [
       "<div>\n",
       "<style scoped>\n",
       "    .dataframe tbody tr th:only-of-type {\n",
       "        vertical-align: middle;\n",
       "    }\n",
       "\n",
       "    .dataframe tbody tr th {\n",
       "        vertical-align: top;\n",
       "    }\n",
       "\n",
       "    .dataframe thead th {\n",
       "        text-align: right;\n",
       "    }\n",
       "</style>\n",
       "<table border=\"1\" class=\"dataframe\">\n",
       "  <thead>\n",
       "    <tr style=\"text-align: right;\">\n",
       "      <th></th>\n",
       "      <th>unique_values</th>\n",
       "    </tr>\n",
       "  </thead>\n",
       "  <tbody>\n",
       "    <tr>\n",
       "      <th>InvoiceNo</th>\n",
       "      <td>25900</td>\n",
       "    </tr>\n",
       "    <tr>\n",
       "      <th>InvoiceDate</th>\n",
       "      <td>23260</td>\n",
       "    </tr>\n",
       "    <tr>\n",
       "      <th>CustomerID</th>\n",
       "      <td>4372</td>\n",
       "    </tr>\n",
       "    <tr>\n",
       "      <th>Description</th>\n",
       "      <td>4223</td>\n",
       "    </tr>\n",
       "    <tr>\n",
       "      <th>StockCode</th>\n",
       "      <td>4070</td>\n",
       "    </tr>\n",
       "    <tr>\n",
       "      <th>UnitPrice</th>\n",
       "      <td>1630</td>\n",
       "    </tr>\n",
       "    <tr>\n",
       "      <th>Quantity</th>\n",
       "      <td>722</td>\n",
       "    </tr>\n",
       "    <tr>\n",
       "      <th>Country</th>\n",
       "      <td>38</td>\n",
       "    </tr>\n",
       "  </tbody>\n",
       "</table>\n",
       "</div>"
      ],
      "text/plain": [
       "             unique_values\n",
       "InvoiceNo            25900\n",
       "InvoiceDate          23260\n",
       "CustomerID            4372\n",
       "Description           4223\n",
       "StockCode             4070\n",
       "UnitPrice             1630\n",
       "Quantity               722\n",
       "Country                 38"
      ]
     },
     "metadata": {},
     "output_type": "display_data"
    },
    {
     "name": "stdout",
     "output_type": "stream",
     "text": [
      "\n",
      "Data preview: first 5 rows\n"
     ]
    },
    {
     "data": {
      "application/vnd.microsoft.datawrangler.viewer.v0+json": {
       "columns": [
        {
         "name": "index",
         "rawType": "int64",
         "type": "integer"
        },
        {
         "name": "InvoiceNo",
         "rawType": "object",
         "type": "string"
        },
        {
         "name": "StockCode",
         "rawType": "object",
         "type": "string"
        },
        {
         "name": "Description",
         "rawType": "object",
         "type": "string"
        },
        {
         "name": "Quantity",
         "rawType": "int64",
         "type": "integer"
        },
        {
         "name": "InvoiceDate",
         "rawType": "object",
         "type": "string"
        },
        {
         "name": "UnitPrice",
         "rawType": "float64",
         "type": "float"
        },
        {
         "name": "CustomerID",
         "rawType": "float64",
         "type": "float"
        },
        {
         "name": "Country",
         "rawType": "object",
         "type": "string"
        }
       ],
       "ref": "e454a555-7440-4e40-98fb-4d28c521d014",
       "rows": [
        [
         "0",
         "536365",
         "85123A",
         "WHITE HANGING HEART T-LIGHT HOLDER",
         "6",
         "12/1/2010 8:26",
         "2.55",
         "17850.0",
         "United Kingdom"
        ],
        [
         "1",
         "536365",
         "71053",
         "WHITE METAL LANTERN",
         "6",
         "12/1/2010 8:26",
         "3.39",
         "17850.0",
         "United Kingdom"
        ],
        [
         "2",
         "536365",
         "84406B",
         "CREAM CUPID HEARTS COAT HANGER",
         "8",
         "12/1/2010 8:26",
         "2.75",
         "17850.0",
         "United Kingdom"
        ],
        [
         "3",
         "536365",
         "84029G",
         "KNITTED UNION FLAG HOT WATER BOTTLE",
         "6",
         "12/1/2010 8:26",
         "3.39",
         "17850.0",
         "United Kingdom"
        ],
        [
         "4",
         "536365",
         "84029E",
         "RED WOOLLY HOTTIE WHITE HEART.",
         "6",
         "12/1/2010 8:26",
         "3.39",
         "17850.0",
         "United Kingdom"
        ]
       ],
       "shape": {
        "columns": 8,
        "rows": 5
       }
      },
      "text/html": [
       "<div>\n",
       "<style scoped>\n",
       "    .dataframe tbody tr th:only-of-type {\n",
       "        vertical-align: middle;\n",
       "    }\n",
       "\n",
       "    .dataframe tbody tr th {\n",
       "        vertical-align: top;\n",
       "    }\n",
       "\n",
       "    .dataframe thead th {\n",
       "        text-align: right;\n",
       "    }\n",
       "</style>\n",
       "<table border=\"1\" class=\"dataframe\">\n",
       "  <thead>\n",
       "    <tr style=\"text-align: right;\">\n",
       "      <th></th>\n",
       "      <th>InvoiceNo</th>\n",
       "      <th>StockCode</th>\n",
       "      <th>Description</th>\n",
       "      <th>Quantity</th>\n",
       "      <th>InvoiceDate</th>\n",
       "      <th>UnitPrice</th>\n",
       "      <th>CustomerID</th>\n",
       "      <th>Country</th>\n",
       "    </tr>\n",
       "  </thead>\n",
       "  <tbody>\n",
       "    <tr>\n",
       "      <th>0</th>\n",
       "      <td>536365</td>\n",
       "      <td>85123A</td>\n",
       "      <td>WHITE HANGING HEART T-LIGHT HOLDER</td>\n",
       "      <td>6</td>\n",
       "      <td>12/1/2010 8:26</td>\n",
       "      <td>2.55</td>\n",
       "      <td>17850.0</td>\n",
       "      <td>United Kingdom</td>\n",
       "    </tr>\n",
       "    <tr>\n",
       "      <th>1</th>\n",
       "      <td>536365</td>\n",
       "      <td>71053</td>\n",
       "      <td>WHITE METAL LANTERN</td>\n",
       "      <td>6</td>\n",
       "      <td>12/1/2010 8:26</td>\n",
       "      <td>3.39</td>\n",
       "      <td>17850.0</td>\n",
       "      <td>United Kingdom</td>\n",
       "    </tr>\n",
       "    <tr>\n",
       "      <th>2</th>\n",
       "      <td>536365</td>\n",
       "      <td>84406B</td>\n",
       "      <td>CREAM CUPID HEARTS COAT HANGER</td>\n",
       "      <td>8</td>\n",
       "      <td>12/1/2010 8:26</td>\n",
       "      <td>2.75</td>\n",
       "      <td>17850.0</td>\n",
       "      <td>United Kingdom</td>\n",
       "    </tr>\n",
       "    <tr>\n",
       "      <th>3</th>\n",
       "      <td>536365</td>\n",
       "      <td>84029G</td>\n",
       "      <td>KNITTED UNION FLAG HOT WATER BOTTLE</td>\n",
       "      <td>6</td>\n",
       "      <td>12/1/2010 8:26</td>\n",
       "      <td>3.39</td>\n",
       "      <td>17850.0</td>\n",
       "      <td>United Kingdom</td>\n",
       "    </tr>\n",
       "    <tr>\n",
       "      <th>4</th>\n",
       "      <td>536365</td>\n",
       "      <td>84029E</td>\n",
       "      <td>RED WOOLLY HOTTIE WHITE HEART.</td>\n",
       "      <td>6</td>\n",
       "      <td>12/1/2010 8:26</td>\n",
       "      <td>3.39</td>\n",
       "      <td>17850.0</td>\n",
       "      <td>United Kingdom</td>\n",
       "    </tr>\n",
       "  </tbody>\n",
       "</table>\n",
       "</div>"
      ],
      "text/plain": [
       "  InvoiceNo StockCode                          Description  Quantity  \\\n",
       "0    536365    85123A   WHITE HANGING HEART T-LIGHT HOLDER         6   \n",
       "1    536365     71053                  WHITE METAL LANTERN         6   \n",
       "2    536365    84406B       CREAM CUPID HEARTS COAT HANGER         8   \n",
       "3    536365    84029G  KNITTED UNION FLAG HOT WATER BOTTLE         6   \n",
       "4    536365    84029E       RED WOOLLY HOTTIE WHITE HEART.         6   \n",
       "\n",
       "      InvoiceDate  UnitPrice  CustomerID         Country  \n",
       "0  12/1/2010 8:26       2.55     17850.0  United Kingdom  \n",
       "1  12/1/2010 8:26       3.39     17850.0  United Kingdom  \n",
       "2  12/1/2010 8:26       2.75     17850.0  United Kingdom  \n",
       "3  12/1/2010 8:26       3.39     17850.0  United Kingdom  \n",
       "4  12/1/2010 8:26       3.39     17850.0  United Kingdom  "
      ]
     },
     "metadata": {},
     "output_type": "display_data"
    },
    {
     "name": "stdout",
     "output_type": "stream",
     "text": [
      "\n",
      "==============================================================================================================\n",
      "End of basic data summary for \n",
      "==============================================================================================================\n"
     ]
    }
   ],
   "source": [
    "basic_data_information(df)"
   ]
  },
  {
   "cell_type": "markdown",
   "id": "e148932a",
   "metadata": {},
   "source": [
    "##### Step 3: Data quality assessment"
   ]
  },
  {
   "cell_type": "markdown",
   "id": "d831c343",
   "metadata": {},
   "source": [
    "Data quality assessment offers an deep dive on the quality of the data. While some methods are similar with that on step 2, step 3 will have a deeper quality check to ensure that the data is 'ready' for further analysis.\n",
    "\n",
    "Adding in a functionality that prints the output to a pdf instead of the console to review the outputs for large datasets."
   ]
  },
  {
   "cell_type": "code",
   "execution_count": null,
   "id": "d571a062",
   "metadata": {},
   "outputs": [],
   "source": [
    "def data_quality_deep_dive(df, preview_rows=5, size_threshold=300, force_mode=None, file_prefix=\"quality_deep_dive_summary\"):\n",
    "    \"\"\"\n",
    "    Perform a deeper dive in terms of quality assessment on the dataset specifically with:\n",
    "    - Duplicates\n",
    "    - Mixed data types\n",
    "    - Capitalization inconsistencies\n",
    "    - Unexpected values\n",
    "    - Optionally export to a pdf file if the output is too large\n",
    "\n",
    "    Parameters:\n",
    "    df (pd.DataFrame): Dataframe loaded from steps above.\n",
    "    preview_rows (int): Max number of rows to preview.\n",
    "    size_threshold (int): Max row or columns before triggering file output.\n",
    "    force_mode (str): Allows the function to determine whether to \"print\", \"file\", or None (auto-detect based on size).\n",
    "    file_prefix (str): Name prefix for output file if file mode is used.\n",
    "    \"\"\"\n",
    "\n",
    "    #Identify if output will be printed in the results or exported to a file\n",
    "    mode = force_mode\n",
    "    if mode is None: \n",
    "        if df.shape[0] > size_threshold or df.shape[1] > size_threshold:\n",
    "            mode =\"file\"\n",
    "        else:\n",
    "            mode = \"print\"\n",
    "    output_lines = []\n",
    "\n",
    "    def add_output(line):\n",
    "        if mode == \"print\":\n",
    "            print(line)\n",
    "        else:\n",
    "            output_lines.append(str(line))\n",
    "    \n",
    "    def add_df_output(sub_df, title):\n",
    "        if mode == \"print\":\n",
    "            print(\"\\n\" + \"=\" * 100 + f\"\\n{title}: \\n\")\n",
    "        else:\n",
    "            output_lines.append(f\"\\n\\n{title}: \\n\")\n",
    "            output_lines.append(sub_df.to_string())\n",
    "\n",
    "    add_output(\"=\" * 110)\n",
    "    add_output(f\"DATA QUALITY ASSESSMENT FOR {file_path} with {df.shape[0]:,} rows x {df.shape[1]:,} columns\")\n",
    "    add_output(\"=\" * 110)\n",
    "\n",
    "    #Placeholder creations\n",
    "    title_items = ['Duplicate Rows', \n",
    "                'Mixed Data Types', \n",
    "                'Capitalization Inconsistencies',\n",
    "                'Unexpected/Unknown Values',\n",
    "                'Numeric Outliers or Skew Checks',\n",
    "                'Data Preview'\n",
    "                ]\n",
    "\n",
    "    for index, title in enumerate(title_items, 1):\n",
    "        add_output(\"\\n\" + \"-\" * 110 + \"\\n\" + f\"[{index}] {title}:\" + \"\\n\" + \"-\" * 110 + \"\\n\")\n",
    "        \n",
    "        if index == 1:  # Duplicate Rows\n",
    "            duplicate_rows = df[df.duplicated()]\n",
    "            if not duplicate_rows.empty:\n",
    "                add_output(f\"There are {len(duplicate_rows):,} duplicate rows in the dataset.\\n\")\n",
    "\n",
    "                #Print duplicate row indices - limited for large datasets\n",
    "                duplicate_indices = duplicate_rows.index.tolist()\n",
    "                add_output(\"Duplicate row indices (showing up to 100):\")\n",
    "                add_output(str(duplicate_indices[:100]))  # limit to first 100 only\n",
    "\n",
    "                if len(duplicate_rows) <= size_threshold:\n",
    "                    add_output(duplicate_rows.to_string(index=False))\n",
    "                else:\n",
    "                    add_output(\"Too many duplicates to display; showing top 5:\")\n",
    "                    add_output(duplicate_rows.head(5).to_string(index=False))\n",
    "            else:\n",
    "                add_output(\"No exact duplicate rows found.\")\n",
    "\n",
    "        elif index == 2: #Mixed data types\n",
    "            mixed_data_types_issues = {}\n",
    "\n",
    "            for col in df.columns:\n",
    "                mixed_types = df[col].dropna().map(type).value_counts()\n",
    "\n",
    "                if len(mixed_types) > 1:\n",
    "                    mixed_data_types_issues[col] = mixed_types\n",
    "\n",
    "            if mixed_data_types_issues:\n",
    "                add_output(f\"Found {len(mixed_data_types_issues)} columns with mixed data types:\\n\")\n",
    "                for col, types in mixed_data_types_issues.items():\n",
    "                    add_output(f\"- Column '{col}' has multiple data types:\")\n",
    "                    for t, count in types.items():\n",
    "                        add_output(f\"    • {t.__name__}: {count:,} values\")\n",
    "            else:\n",
    "                add_output(\"No mixed data types found in all columns.\")\n",
    "                    \n",
    "        elif index == 3:  # Capitalization Inconsistencies\n",
    "            obj_cols = df.select_dtypes(include='object').columns\n",
    "            cap_issues_found = False\n",
    "            for col in obj_cols:\n",
    "                vals = df[col].dropna().unique()\n",
    "                groups = {}\n",
    "                for v in vals:\n",
    "                    key = v.lower()\n",
    "                    groups.setdefault(key, set()).add(v)\n",
    "                for key, variations in groups.items():\n",
    "                    if len(variations) > 1:\n",
    "                        cap_issues_found = True\n",
    "                        add_output(f\"Column '{col}', has variations for '{key}': {variations}\")\n",
    "            if not cap_issues_found:\n",
    "                add_output(\"No capitalization inconsistencies found.\")\n",
    "\n",
    "        elif index == 4:  # Unexpected/Unknown Values\n",
    "            known_placeholders = {'n/a', 'na', 'none', 'null', 'unknown', '-', '', 'not applicable'}\n",
    "            threshold = 0.01  # if value occurs in <1% of non-null rows, flag it\n",
    "            \n",
    "            rare_or_unknown_found = False\n",
    "            \n",
    "            for col in df.select_dtypes(include='object'):\n",
    "                val_counts = df[col].dropna().value_counts(normalize=True)\n",
    "                to_flag = val_counts[val_counts < threshold].index.tolist()\n",
    "                \n",
    "                placeholder_hits = [v for v in df[col].dropna().unique()\n",
    "                                    if str(v).strip().lower() in known_placeholders]\n",
    "                \n",
    "                if to_flag or placeholder_hits:\n",
    "                    rare_or_unknown_found = True\n",
    "                    add_output(f\"\\nColumn: '{col}'\")\n",
    "                    if placeholder_hits:\n",
    "                        add_output(f\" - Found placeholder-like values: {placeholder_hits}\")\n",
    "                    if to_flag:\n",
    "                        add_output(f\" - Rare values (<1% occurrence): {to_flag[:5]}{'...' if len(to_flag) > 5 else ''}\")\n",
    "            \n",
    "            if not rare_or_unknown_found:\n",
    "                add_output(\"No values flagged.\")\n",
    "\n",
    "        elif index == 5:  # Numeric Outliers or Skew Checks\n",
    "            numeric_cols = df.select_dtypes(include='number').columns\n",
    "            if numeric_cols.empty:\n",
    "                add_output(\"No numeric columns found.\")\n",
    "            else:\n",
    "                for col in numeric_cols:\n",
    "                    series = df[col].dropna()\n",
    "                    if len(series) == 0:\n",
    "                        continue\n",
    "\n",
    "                    q1 = series.quantile(0.25)\n",
    "                    q3 = series.quantile(0.75)\n",
    "                    iqr = q3 - q1\n",
    "                    lower = q1 - 1.5 * iqr\n",
    "                    upper = q3 + 1.5 * iqr\n",
    "                    outliers = series[(series < lower) | (series > upper)]\n",
    "\n",
    "                    add_output(f\"\\nColumn: {col}\")\n",
    "                    add_output(f\" - Min: {series.min():,.2f}, Max: {series.max():,.2f}, Mean: {series.mean():,.2f}, Std: {series.std():,.2f}\")\n",
    "                    add_output(f\" - Outliers (IQR rule): {len(outliers):,}\")\n",
    "\n",
    "                    if len(outliers) > 0 and len(outliers) <= size_threshold:\n",
    "                        add_output(f\"Sample outlier values: {outliers.unique()[:5].tolist()}\")\n",
    "                    elif len(outliers) > size_threshold:\n",
    "                        add_output(\"Too many outliers to display.\")\n",
    "\n",
    "        elif index == 6:  # Data Preview\n",
    "            add_output(f\"Previewing the first {preview_rows} rows of the dataset:\\n\")\n",
    "            if preview_rows > 0:\n",
    "                preview = df.head(preview_rows).to_string(index=False)\n",
    "                add_output(preview)\n",
    "            else:\n",
    "                add_output(\"Preview  skipped because preview_rows is set to 0.\")\n",
    "\n",
    "        # Final output\n",
    "        if mode == \"file\":\n",
    "            output_file = f\"{file_prefix} - {file_path}.txt\"\n",
    "            timestamp = datetime.datetime.now().strftime(\"%Y-%m-%d %H:%M:%S\")\n",
    "            header = f\"\\n\\n{'=' * 110}\\nNew Run at {timestamp}\\n{'=' * 110}\\n\"\n",
    "            with open(output_file, \"a\", encoding=\"utf-8\") as f:  # Append mode\n",
    "                f.write(header)\n",
    "                f.write(\"\\n\".join(output_lines))\n",
    "            print(f\"\\nData quality report appended to {output_file}\")"
   ]
  },
  {
   "cell_type": "code",
   "execution_count": 7,
   "id": "20f38958",
   "metadata": {},
   "outputs": [
    {
     "name": "stdout",
     "output_type": "stream",
     "text": [
      "\n",
      "Data quality report written to quality_deep_dive_summary - data.csv.txt\n"
     ]
    }
   ],
   "source": [
    "data_quality_deep_dive(df)"
   ]
  },
  {
   "cell_type": "markdown",
   "id": "b90eb62c",
   "metadata": {},
   "source": [
    "##### Step 4: Summary statistics"
   ]
  },
  {
   "cell_type": "code",
   "execution_count": null,
   "id": "d4b87904",
   "metadata": {},
   "outputs": [],
   "source": [
    "def generate_summary_statistics(df, file_prefix=\"quality_deep_dive_summary - \", group_by=None):\n",
    "    output_lines = []\n",
    "\n",
    "    def add_output(line):\n",
    "        output_lines.append(str(line))\n",
    "\n",
    "    add_output(\"\\n\" + \"=\" * 110)\n",
    "    add_output(\"[Step 4] Summary Statistics\")\n",
    "    add_output(\"=\" * 110 + \"\\n\")\n",
    "\n",
    "    # Numeric stats\n",
    "    numeric_cols = df.select_dtypes(include='number')\n",
    "    if not numeric_cols.empty:\n",
    "        add_output(\"Numerical Variable Summary:\\n\")\n",
    "        add_output(numeric_cols.describe().transpose().to_string())\n",
    "    else:\n",
    "        add_output(\"No numeric columns to summarize.\")\n",
    "\n",
    "    # Categorical stats\n",
    "    cat_cols = df.select_dtypes(include='object')\n",
    "    if not cat_cols.empty:\n",
    "        add_output(\"\\nCategorical Variable Unique Counts:\\n\")\n",
    "        for col in cat_cols.columns:\n",
    "            uniques = df[col].nunique()\n",
    "            add_output(f\"{col}: {uniques} unique values\")\n",
    "    else:\n",
    "        add_output(\"No categorical columns to summarize.\")\n",
    "\n",
    "    # Group-wise summaries (optional)\n",
    "    if group_by and group_by in df.columns:\n",
    "        add_output(f\"\\nGroup-wise Summary by `{group_by}`:\\n\")\n",
    "        try:\n",
    "            grouped = df.groupby(group_by).describe().transpose()\n",
    "            add_output(grouped.to_string())\n",
    "        except:\n",
    "            add_output(f\"Could not generate group-wise summary by `{group_by}`.\")\n",
    "\n",
    "    # Append to file\n",
    "    output_file = f\"{file_prefix}+{file_path}.txt\"\n",
    "    with open(output_file, \"a\", encoding=\"utf-8\") as f:  # NOTE: \"a\" for append mode\n",
    "        f.write(\"\\n\".join(output_lines))\n",
    "    print(f\"Summary statistics appended to {output_file}\")"
   ]
  },
  {
   "cell_type": "markdown",
   "id": "019192af",
   "metadata": {},
   "source": [
    "##### Step 5: Correlations and outliers"
   ]
  },
  {
   "cell_type": "markdown",
   "id": "45692b3f",
   "metadata": {},
   "source": [
    "##### Step 6: Answering questions"
   ]
  }
 ],
 "metadata": {
  "kernelspec": {
   "display_name": "Python 3",
   "language": "python",
   "name": "python3"
  },
  "language_info": {
   "codemirror_mode": {
    "name": "ipython",
    "version": 3
   },
   "file_extension": ".py",
   "mimetype": "text/x-python",
   "name": "python",
   "nbconvert_exporter": "python",
   "pygments_lexer": "ipython3",
   "version": "3.11.9"
  }
 },
 "nbformat": 4,
 "nbformat_minor": 5
}

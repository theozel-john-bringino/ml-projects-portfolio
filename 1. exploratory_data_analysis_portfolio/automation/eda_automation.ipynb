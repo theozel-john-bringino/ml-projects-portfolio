{
 "cells": [
  {
   "cell_type": "markdown",
   "id": "855c5987",
   "metadata": {},
   "source": [
    "### EDA Automation Notebook\n",
    "This notebook is a jupyter notebook template for all my EDA projects. This will contain various checks that I commonly use in my projects. Since this is an automation or a template, this does not contain any test data. It will contain the following checks as seen below:\n",
    "- Step 1: Loading the data\n",
    "- Step 2: Checking the basic data information\n",
    "- Step 3: Data quality assessment\n",
    "- Step 4: Summary statistics\n",
    "- Step 5: Correlations and outliers\n",
    "- Step 6: Answering questions\n",
    "\n",
    "There will be another python file included in this notebook and this prints out the pdf report instead of the notebook as this is used for data exploration only and not for answering questions."
   ]
  },
  {
   "cell_type": "code",
   "execution_count": null,
   "id": "5bf5e2bc",
   "metadata": {},
   "outputs": [],
   "source": [
    "#Import packages\n",
    "import pandas as pd\n",
    "import numpy as np\n",
    "import seaborn as sns\n",
    "import matplotlib.pyplot as plt\n",
    "import os"
   ]
  },
  {
   "cell_type": "markdown",
   "id": "c76a08d8",
   "metadata": {},
   "source": [
    "##### Step 1: Loading the data"
   ]
  },
  {
   "cell_type": "code",
   "execution_count": null,
   "id": "5e42e2a4",
   "metadata": {},
   "outputs": [],
   "source": []
  },
  {
   "cell_type": "markdown",
   "id": "5b765872",
   "metadata": {},
   "source": [
    "##### Step 2: Checking the basic data information"
   ]
  },
  {
   "cell_type": "markdown",
   "id": "e148932a",
   "metadata": {},
   "source": [
    "##### Step 3: Data quality assessment"
   ]
  },
  {
   "cell_type": "markdown",
   "id": "b90eb62c",
   "metadata": {},
   "source": [
    "##### Step 4: Summary statistics"
   ]
  },
  {
   "cell_type": "markdown",
   "id": "019192af",
   "metadata": {},
   "source": [
    "##### Step 5: Correlations and outliers"
   ]
  },
  {
   "cell_type": "markdown",
   "id": "45692b3f",
   "metadata": {},
   "source": [
    "##### Step 6: Answering questions"
   ]
  }
 ],
 "metadata": {
  "language_info": {
   "name": "python"
  }
 },
 "nbformat": 4,
 "nbformat_minor": 5
}

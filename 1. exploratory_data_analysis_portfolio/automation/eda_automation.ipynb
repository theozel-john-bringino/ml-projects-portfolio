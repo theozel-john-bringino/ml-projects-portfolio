{
 "cells": [
  {
   "cell_type": "markdown",
   "id": "855c5987",
   "metadata": {},
   "source": [
    "### EDA Automation Notebook\n",
    "This notebook is a jupyter notebook template for all my EDA projects. This will contain various checks that I commonly use in my projects. Since this is an automation or a template, this does not contain any test data. It will contain the following checks as seen below:\n",
    "- Step 1: Loading the data\n",
    "- Step 2: Checking the basic data information\n",
    "- Step 3: Data quality assessment\n",
    "- Step 4: Summary statistics\n",
    "- Step 5: Correlations and outliers\n",
    "- Step 6: Answering questions\n",
    "\n",
    "There will be another python file and this prints out the pdf report instead of the notebook as this is used for data exploration only and not for answering questions."
   ]
  },
  {
   "cell_type": "code",
   "execution_count": 23,
   "id": "5bf5e2bc",
   "metadata": {},
   "outputs": [],
   "source": [
    "#Import packages\n",
    "import pandas as pd\n",
    "import numpy as np\n",
    "import seaborn as sns\n",
    "import matplotlib.pyplot as plt\n",
    "import os\n",
    "from IPython.display import display"
   ]
  },
  {
   "cell_type": "markdown",
   "id": "c76a08d8",
   "metadata": {},
   "source": [
    "##### Step 1: Loading the data"
   ]
  },
  {
   "cell_type": "code",
   "execution_count": 30,
   "id": "e3f597ce",
   "metadata": {},
   "outputs": [],
   "source": [
    "def load_data(file_path, sheet_name = None, encoding = \"utf-8\"):\n",
    "    \"\"\"\n",
    "    Load a dataset either from a CSV or Excel file from any path provide by the user.\n",
    "\n",
    "    Parameters:\n",
    "        file_path (str): Path to the file, can be absolute or relative.\n",
    "        sheet_name (str or int, optional): Sheet name is used as index for files.\n",
    "    \n",
    "    Output:\n",
    "        dataframe: Data from file is loaded as a dataframe. Loads 50 rows(head) of data for better checking.\n",
    "    \"\"\"\n",
    "    if len(file_path) == 0:\n",
    "        raise FileNotFoundError(f\"File path cannot be blank.\")\n",
    "    #Error handling for files if file cannot be located\n",
    "    if not os.path.exists(file_path):\n",
    "        raise FileNotFoundError(f\"File not found for {file_path}. Ensure file is inside the folder or input the whole path instead.\")\n",
    "\n",
    "    ext_type = os.path.splitext(file_path)[-1].lower()\n",
    "\n",
    "    #File type handling for CSV and Excel files as well\n",
    "    try:    \n",
    "        if ext_type == \".csv\":\n",
    "            #Unicode decode error handling\n",
    "            try:\n",
    "                df = pd.read_csv(file_path, encoding = encoding)\n",
    "            except UnicodeDecodeError:\n",
    "                print(\"UTF-8 failed, trying ISO-8859-1...\")\n",
    "                df = pd.read_csv(file_path, encoding = \"ISO-8859-1\")\n",
    "        \n",
    "        elif ext_type in [\".xls\", \"xlsx\"]:\n",
    "            df = pd.read_excel(file_path, sheet_name = sheet_name if sheet_name else 0)\n",
    "        \n",
    "        #Error raising for unsupported file types\n",
    "        else:\n",
    "            raise ValueError(\"Unsupported file type. This notebook can only load CSV or Excel files.\")\n",
    "\n",
    "    except Exception as exc:\n",
    "        raise RuntimeError(f\"Error reading file: {exc}\")\n",
    "\n",
    "    print(f\"Data loaded successfully from {file_path}\")\n",
    "    display(df.head(50))\n",
    "    return df"
   ]
  },
  {
   "cell_type": "code",
   "execution_count": null,
   "id": "5e42e2a4",
   "metadata": {},
   "outputs": [],
   "source": [
    "#Interactive data loading for targeted file path loading\n",
    "if __name__ == \"__main__\":\n",
    "    file_path = input(\"Enter file path (ex. data.csv or C:/folder/data.csv): \").strip()\n",
    "    sheet_name = input(\"Optional: Specify sheet name or press ENTER to load the file directly.\")\n",
    "    sheet_name = sheet_name if sheet_name else None\n",
    "\n",
    "    df = load_data(file_path, sheet_name)"
   ]
  },
  {
   "cell_type": "markdown",
   "id": "5b765872",
   "metadata": {},
   "source": [
    "##### Step 2: Checking the basic data information"
   ]
  },
  {
   "cell_type": "markdown",
   "id": "e148932a",
   "metadata": {},
   "source": [
    "##### Step 3: Data quality assessment"
   ]
  },
  {
   "cell_type": "markdown",
   "id": "b90eb62c",
   "metadata": {},
   "source": [
    "##### Step 4: Summary statistics"
   ]
  },
  {
   "cell_type": "markdown",
   "id": "019192af",
   "metadata": {},
   "source": [
    "##### Step 5: Correlations and outliers"
   ]
  },
  {
   "cell_type": "markdown",
   "id": "45692b3f",
   "metadata": {},
   "source": [
    "##### Step 6: Answering questions"
   ]
  }
 ],
 "metadata": {
  "kernelspec": {
   "display_name": "Python 3",
   "language": "python",
   "name": "python3"
  },
  "language_info": {
   "codemirror_mode": {
    "name": "ipython",
    "version": 3
   },
   "file_extension": ".py",
   "mimetype": "text/x-python",
   "name": "python",
   "nbconvert_exporter": "python",
   "pygments_lexer": "ipython3",
   "version": "3.11.9"
  }
 },
 "nbformat": 4,
 "nbformat_minor": 5
}
